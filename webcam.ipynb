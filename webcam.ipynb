{
 "cells": [
  {
   "cell_type": "code",
   "execution_count": 9,
   "metadata": {},
   "outputs": [
    {
     "name": "stdout",
     "output_type": "stream",
     "text": [
      "Loading weights  logs/ear20210330T1552/mask_rcnn_ear_0028.h5\n",
      "Re-starting from epoch 28\n"
     ]
    },
    {
     "ename": "error",
     "evalue": "OpenCV(4.4.0) /tmp/pip-build-b3fha69c/opencv-python/opencv/modules/highgui/src/window.cpp:645: error: (-2:Unspecified error) The function is not implemented. Rebuild the library with Windows, GTK+ 2.x or Cocoa support. If you are on Ubuntu or Debian, install libgtk2.0-dev and pkg-config, then re-run cmake or configure script in function 'cvDestroyAllWindows'\n",
     "output_type": "error",
     "traceback": [
      "\u001b[0;31m---------------------------------------------------------------------------\u001b[0m",
      "\u001b[0;31merror\u001b[0m                                     Traceback (most recent call last)",
      "\u001b[0;32m<ipython-input-9-4bb9f8648ca6>\u001b[0m in \u001b[0;36m<module>\u001b[0;34m\u001b[0m\n\u001b[1;32m     99\u001b[0m \u001b[0;34m\u001b[0m\u001b[0m\n\u001b[1;32m    100\u001b[0m \u001b[0mstream\u001b[0m\u001b[0;34m.\u001b[0m\u001b[0mrelease\u001b[0m\u001b[0;34m(\u001b[0m\u001b[0;34m)\u001b[0m\u001b[0;34m\u001b[0m\u001b[0;34m\u001b[0m\u001b[0m\n\u001b[0;32m--> 101\u001b[0;31m \u001b[0mcv2\u001b[0m\u001b[0;34m.\u001b[0m\u001b[0mdestroyAllWindows\u001b[0m\u001b[0;34m(\u001b[0m\u001b[0;34m)\u001b[0m\u001b[0;34m\u001b[0m\u001b[0;34m\u001b[0m\u001b[0m\n\u001b[0m",
      "\u001b[0;31merror\u001b[0m: OpenCV(4.4.0) /tmp/pip-build-b3fha69c/opencv-python/opencv/modules/highgui/src/window.cpp:645: error: (-2:Unspecified error) The function is not implemented. Rebuild the library with Windows, GTK+ 2.x or Cocoa support. If you are on Ubuntu or Debian, install libgtk2.0-dev and pkg-config, then re-run cmake or configure script in function 'cvDestroyAllWindows'\n"
     ]
    }
   ],
   "source": [
    "import os\n",
    "import sys\n",
    "import random\n",
    "import math\n",
    "import re\n",
    "import time\n",
    "import numpy as np\n",
    "import tensorflow as tf\n",
    "import matplotlib\n",
    "import matplotlib.pyplot as plt\n",
    "import matplotlib.patches as patches\n",
    "sys.path.append('/home/mdmursalin/earMaskRCNN/src/Mask_RCNN/')\n",
    "from mrcnn import utils\n",
    "from mrcnn import visualize\n",
    "from mrcnn.visualize import display_images\n",
    "import mrcnn.model as modellib\n",
    "from mrcnn.model import log\n",
    "import cv2\n",
    "\n",
    "import Ear\n",
    "\n",
    "%matplotlib inline \n",
    "os.environ[\"CUDA_VISIBLE_DEVICES\"] = \"-1\"\n",
    "\n",
    "# Dataset directory\n",
    "DATASET_DIR = \"/home/mdmursalin/dataforearmaskrcnn\"\n",
    "\n",
    "# Inference Configuration\n",
    "config = Ear.EarInferenceConfig()\n",
    "DEVICE = \"/cpu:0\"  # /cpu:0 or /gpu:0\n",
    "class_names = ['BG', 'ear']\n",
    "# Inspect the model in training or inference modes\n",
    "# values: 'inference' or 'training'\n",
    "# Only inference mode is supported right now\n",
    "TEST_MODE = \"inference\"\n",
    "def get_ax(rows=1, cols=1, size=16):\n",
    "    \"\"\"Return a Matplotlib Axes array to be used in\n",
    "    all visualizations in the notebook. Provide a\n",
    "    central point to control graph sizes.\n",
    "    \n",
    "    Adjust the size attribute to control how big to render images\n",
    "    \"\"\"\n",
    "    fig, ax = plt.subplots(rows, cols, figsize=(size*cols, size*rows))\n",
    "    fig.tight_layout()\n",
    "    return ax\n",
    "# # Load validation dataset\n",
    "# dataset = Ear.EarDataset()\n",
    "# dataset.load_ear(DATASET_DIR, \"test\")\n",
    "# dataset.prepare()\n",
    "\n",
    "# print(\"Images: {}\\nClasses: {}\".format(len(dataset.image_ids), dataset.class_names))\n",
    "\n",
    "# Create model in inference mode\n",
    "LOGS_DIR = \"logs\"\n",
    "with tf.device(DEVICE):\n",
    "    model = modellib.MaskRCNN(mode=\"inference\",\n",
    "                              model_dir=LOGS_DIR,\n",
    "                              config=config)\n",
    "# Path to a specific weights file\n",
    "weights_path = \"logs/ear20210330T1552/mask_rcnn_ear_0028.h5\"\n",
    "\n",
    "# Or, load the last model you trained\n",
    "#weights_path = model.find_last()\n",
    "\n",
    "# Load weights\n",
    "print(\"Loading weights \", weights_path)\n",
    "model.load_weights(weights_path, by_name=True)\n",
    "\n",
    "\n",
    "#capture = cv2.VideoCapture(os.path.join(DATASET_DIR, 'video.mp4')) \n",
    "stream=cv2.VideoCapture(0)\n",
    "while True:\n",
    "    ret, frame = stream.read()\n",
    "    # Bail out when the video file ends\n",
    "    if not ret:\n",
    "        break        \n",
    "    # Save each frame of the video to a list\n",
    "    #frame_count += 1\n",
    "    #frame.append(frame)\n",
    "    #if len(frames) == batch_size:\n",
    "    results = model.detect([frame], verbose=1)\n",
    "    r = results[0]\n",
    "\n",
    "    boxes = r['rois']\n",
    "    masks = r['masks']\n",
    "    class_ids = r['class_ids']\n",
    "    scores = r['scores']\n",
    "\n",
    "    # Run detection\n",
    "    start = time.time()\n",
    "    masked_image = visualize.display_instances(frame, boxes, masks, class_ids, class_names, scores)\n",
    "    end = time.time()\n",
    "    print(\"Inference time: {:.2f}s\".format(end - start))\n",
    "\n",
    "    # Display the resulting frame\n",
    "    cv2.imshow('', masked_image)\n",
    "    if cv2.waitKey(1) & 0xFF == ord('q'):\n",
    "         break\n",
    "\n",
    "stream.release()\n",
    "cv2.destroyAllWindows()"
   ]
  },
  {
   "cell_type": "code",
   "execution_count": 14,
   "metadata": {},
   "outputs": [
    {
     "name": "stdout",
     "output_type": "stream",
     "text": [
      "\r\n",
      "PackageNotInstalledError: Package is not installed in prefix.\r\n",
      "  prefix: /home/mdmursalin/anaconda3/envs/MaskRCNN\r\n",
      "  package name: conda\r\n",
      "\r\n",
      "\r\n"
     ]
    }
   ],
   "source": [
    "!conda update conda\n"
   ]
  },
  {
   "cell_type": "code",
   "execution_count": null,
   "metadata": {},
   "outputs": [],
   "source": []
  }
 ],
 "metadata": {
  "kernelspec": {
   "display_name": "MaskRCNN",
   "language": "python",
   "name": "maskrcnn"
  },
  "language_info": {
   "codemirror_mode": {
    "name": "ipython",
    "version": 3
   },
   "file_extension": ".py",
   "mimetype": "text/x-python",
   "name": "python",
   "nbconvert_exporter": "python",
   "pygments_lexer": "ipython3",
   "version": "3.6.12"
  }
 },
 "nbformat": 4,
 "nbformat_minor": 4
}
